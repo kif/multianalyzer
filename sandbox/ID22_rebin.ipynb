{
 "cells": [
  {
   "attachments": {},
   "cell_type": "markdown",
   "id": "b1b0f54b",
   "metadata": {},
   "source": [
    "# Rebinning Multi-Analyzer data from ID22 taken with a 2D detector\n",
    "\n",
    "This notebooks presents how to agregate together on a same $2\\theta$ grid all data coming from all pixels of the Eiger 2M detector.\n",
    "\n",
    "## Introduction of the Multi-Analyzer stage for high resolution powder diffraction:\n",
    "\n",
    "![eiger](multianalyzer3.png)\n",
    "![multianalyzer](multianalyzer2.jpeg)\n",
    "\n",
    "Please ensure you first read: [J. Appl. Cryst. (2021). 54, 1088-1099](https://doi.org/10.1107/S1600576721005288).\n",
    "\n",
    "Author: Jérôme Kieffer, ESRF"
   ]
  },
  {
   "cell_type": "code",
   "execution_count": 1,
   "id": "52138bc9",
   "metadata": {},
   "outputs": [
    {
     "name": "stdout",
     "output_type": "stream",
     "text": [
      "INFO:root:Generating grammar tables from /usr/lib/python3.9/lib2to3/Grammar.txt\n",
      "INFO:root:Generating grammar tables from /usr/lib/python3.9/lib2to3/PatternGrammar.txt\n",
      "INFO:multianalyzer.setup:Use setuptools with cython\n",
      "INFO:multianalyzer.setup:Install requires: numpy >=1.19.5\n",
      "\u001b[39mrunning build\u001b[0m\n",
      "\u001b[39mrunning build_py\u001b[0m\n",
      "\u001b[39mrunning build_ext\u001b[0m\n",
      "/users/kieffer/workspace-400/multianalyzer/sandbox\n"
     ]
    }
   ],
   "source": [
    "%matplotlib nbagg\n",
    "# Compile the library\n",
    "! cd .. && python3 setup.py build && cd -"
   ]
  },
  {
   "cell_type": "code",
   "execution_count": 2,
   "id": "cdb178ff",
   "metadata": {},
   "outputs": [],
   "source": [
    "import sys\n",
    "import os\n",
    "import time\n",
    "import numpy\n",
    "import h5py\n",
    "import json\n",
    "from matplotlib.pyplot import subplots\n",
    "from matplotlib import colors\n",
    "from scipy.signal import find_peaks\n",
    "sys.path.append(\"../build/lib.linux-x86_64-3.9/\")\n",
    "from multianalyzer import MultiAnalyzer, ID22_bliss_parser, topas_parser\n",
    "start_time = time.perf_counter()"
   ]
  },
  {
   "cell_type": "code",
   "execution_count": null,
   "id": "coordinate-arabic",
   "metadata": {},
   "outputs": [
    {
     "name": "stdout",
     "output_type": "stream",
     "text": [
      "INFO:numexpr.utils:Note: NumExpr detected 12 cores but \"NUMEXPR_MAX_THREADS\" not set, so enforcing safe limit of 8.\n",
      "INFO:numexpr.utils:NumExpr defaulting to 8 threads.\n",
      "    Process max [■■■■■■                                  ]  17%  Feeding frames                                                                                  \r"
     ]
    }
   ],
   "source": [
    "%%time\n",
    "#Nota this cell takes a while to read all frames and perform a max-filter on the stack\n",
    "!pyFAI-average -m max -F numpy -o max.npy /mnt/data/ID22/MultiAnalyzer/LaB6_31keV_150921/LaB6_31keV_150921_0001/LaB6_31keV_150921_0001.h5::/1.1/instrument/eiger/data"
   ]
  },
  {
   "cell_type": "code",
   "execution_count": null,
   "id": "innocent-rotation",
   "metadata": {},
   "outputs": [],
   "source": [
    "fig, ax = subplots(figsize=(10,5))\n",
    "img = numpy.load(\"max.npy\")\n",
    "ax.imshow(img, norm=colors.LogNorm(vmin=1, vmax=65000))"
   ]
  },
  {
   "cell_type": "markdown",
   "id": "c9c5ec09",
   "metadata": {},
   "source": [
    "## Read the configuration of the various analyzers"
   ]
  },
  {
   "cell_type": "code",
   "execution_count": null,
   "id": "6e9642ee",
   "metadata": {},
   "outputs": [],
   "source": [
    "topas = \"out7.pars\"\n",
    "print(open(topas).read())"
   ]
  },
  {
   "cell_type": "code",
   "execution_count": null,
   "id": "e705e7cd",
   "metadata": {},
   "outputs": [],
   "source": [
    "param = topas_parser(topas)\n",
    "print(json.dumps(param, indent=2))"
   ]
  },
  {
   "cell_type": "markdown",
   "id": "db1eca1f",
   "metadata": {},
   "source": [
    "## Read the ROI-collection from HDF5 file. \n",
    "\n",
    "This is a substential amount of data and takes up to a minute!"
   ]
  },
  {
   "cell_type": "code",
   "execution_count": null,
   "id": "61eb8de6",
   "metadata": {},
   "outputs": [],
   "source": [
    "%%time \n",
    "hdf5 = \"/mnt/data/ID22/MultiAnalyzer/LaB6_35keV_mantr10_nozzle20_1/id222108_LaB6_35keV_mantr10_nozzle20_1.h5\"\n",
    "hdf5_data = ID22_bliss_parser(hdf5)"
   ]
  },
  {
   "cell_type": "code",
   "execution_count": null,
   "id": "f8b604bb",
   "metadata": {},
   "outputs": [],
   "source": [
    "print(hdf5_data)"
   ]
  },
  {
   "cell_type": "code",
   "execution_count": null,
   "id": "a2eae045",
   "metadata": {},
   "outputs": [],
   "source": [
    "print(\"Shape of the ROI-collection:\", hdf5_data[\"roicol\"].shape)"
   ]
  },
  {
   "cell_type": "markdown",
   "id": "18f2ff63",
   "metadata": {},
   "source": [
    "## Perform  the rebinning"
   ]
  },
  {
   "cell_type": "code",
   "execution_count": null,
   "id": "e2d4d932",
   "metadata": {},
   "outputs": [],
   "source": [
    "# Ensure all units are consitent. Here lengths are in milimeters.\n",
    "L = param[\"L1\"]\n",
    "L2 = param[\"L2\"]\n",
    "pixel = 75e-3\n",
    "\n",
    "# Angles are all given in degrees\n",
    "center = numpy.array(param[\"centre\"])\n",
    "psi = numpy.rad2deg(param[\"offset\"])\n",
    "rollx = numpy.rad2deg(param[\"rollx\"])\n",
    "rolly = numpy.rad2deg(param[\"rolly\"])\n",
    "\n",
    "tha = hdf5_data[\"tha\"]\n",
    "thd = hdf5_data[\"thd\"]\n",
    "\n",
    "# Finally initialize the rebinning engine.\n",
    "mma = MultiAnalyzer(L, L2, pixel, center, tha, thd, psi, rollx, rolly)"
   ]
  },
  {
   "cell_type": "code",
   "execution_count": null,
   "id": "f81737ea",
   "metadata": {},
   "outputs": [],
   "source": [
    "#Display the 2theta position of all ROI for a given arm position\n",
    "arm = 10\n",
    "fig, ax = subplots()\n",
    "x = range(512)\n",
    "for a in range(13):\n",
    "    ax.plot(x, [mma.refine(i, a, arm, phi_max=8) for i in x], label=f\"MA{a}\")\n",
    "\n",
    "ax.set_xlabel(\"Pixel index\")\n",
    "ax.set_xlabel(r\"$2\\theta$ position of pixel\")\n",
    "ax.set_title(f\"Arm is at {arm} °\")\n",
    "ax.legend()"
   ]
  },
  {
   "cell_type": "code",
   "execution_count": null,
   "id": "5f56fc46",
   "metadata": {},
   "outputs": [],
   "source": [
    "%%time \n",
    "roicol = hdf5_data[\"roicol\"]\n",
    "arm = hdf5_data[\"arm\"]\n",
    "mon = hdf5_data[\"mon\"]\n",
    "res = mma.integrate(roicol, arm, mon, 3.383800, 45.099600, 7e-4, 10)"
   ]
  },
  {
   "cell_type": "code",
   "execution_count": null,
   "id": "5a8f9d97",
   "metadata": {},
   "outputs": [],
   "source": [
    "#Load the reference data:\n",
    "ref = numpy.loadtxt(\"LaB6_35keV_all.xye\").T"
   ]
  },
  {
   "cell_type": "code",
   "execution_count": null,
   "id": "700aa075",
   "metadata": {},
   "outputs": [],
   "source": [
    "fig, ax = subplots()\n",
    "scale = ref[1].max() / numpy.nanmax(res[1]/res[2])\n",
    "for i in range(0, 13, 1):\n",
    "    ax.plot(res[0], scale*res[1][i]/res[2][i], \"--\", label=f\"MA{i}\")\n",
    "ax.plot(ref[0],ref[1], \"-b\", label=\"ref\")\n",
    "ax.set_xlabel(r\"$2\\theta$ (°)\")\n",
    "ax.set_ylabel(\"Scattered intensity\")\n",
    "ax.set_title(\"LaB6\")\n",
    "ax.legend()"
   ]
  },
  {
   "cell_type": "markdown",
   "id": "f85a5c52",
   "metadata": {},
   "source": [
    "## Perform some basic profile analysis\n",
    "\n",
    "This is not a Rietveld, nor a Pawley refinement but it gives some insights on the intrinsic width of the signal"
   ]
  },
  {
   "cell_type": "code",
   "execution_count": null,
   "id": "420dd289",
   "metadata": {},
   "outputs": [],
   "source": [
    "pk = find_peaks(ref[1], width=(5, 50), prominence=1000)"
   ]
  },
  {
   "cell_type": "code",
   "execution_count": null,
   "id": "49101845",
   "metadata": {},
   "outputs": [],
   "source": [
    "fig,ax = subplots()\n",
    "ax.plot(ref[1])\n",
    "ax.plot(pk[0], pk[1][\"prominences\"], \".\")\n",
    "ax.set_xlabel(\"index\")"
   ]
  },
  {
   "cell_type": "code",
   "execution_count": null,
   "id": "56893b4d",
   "metadata": {},
   "outputs": [],
   "source": [
    "fig, ax = subplots()\n",
    "delta = (ref[0][-1] - ref[0][0])/(len(ref[0])-1)\n",
    "ax.set_xlabel(r\"$2\\theta$ (°)\")\n",
    "ax.set_ylabel(\"FWHM (°)\")\n",
    "for i in range(0, 13, 1):\n",
    "    sig = scale*res[1][i, :-1]/res[2][i, :-1]\n",
    "    pks = find_peaks(sig, width=(5, 50), prominence=1000)\n",
    "    ax.plot(res[0][:-1][pks[0]], delta*pks[1][\"widths\"], \"--\", label=f\"MA{i}\")\n",
    "ax.plot(ref[0][pk[0]], delta*pk[1][\"widths\"], \"-b\", label=\"Ref\")\n",
    "ax.legend()\n"
   ]
  },
  {
   "cell_type": "markdown",
   "id": "5cd1af83",
   "metadata": {},
   "source": [
    "## Save data as text file"
   ]
  },
  {
   "cell_type": "code",
   "execution_count": null,
   "id": "93d2c178",
   "metadata": {},
   "outputs": [],
   "source": [
    "res2 = numpy.vstack((res[0], scale*res[1]/res[2]))\n",
    "numpy.savetxt(\"LaB6.xyn\", res2.T, fmt='%.4f')"
   ]
  },
  {
   "cell_type": "markdown",
   "id": "5a521669",
   "metadata": {},
   "source": [
    "## Conclusion\n",
    "This notebook explains how to rebin data coming from the new experimental setup from ID22."
   ]
  },
  {
   "cell_type": "code",
   "execution_count": null,
   "id": "7fada61c",
   "metadata": {},
   "outputs": [],
   "source": [
    "print(f\"Total execution time: {time.perf_counter()-start_time:.3f}s\")"
   ]
  }
 ],
 "metadata": {
  "kernelspec": {
   "display_name": "Python 3",
   "language": "python",
   "name": "python3"
  },
  "language_info": {
   "codemirror_mode": {
    "name": "ipython",
    "version": 3
   },
   "file_extension": ".py",
   "mimetype": "text/x-python",
   "name": "python",
   "nbconvert_exporter": "python",
   "pygments_lexer": "ipython3",
   "version": "3.9.2"
  }
 },
 "nbformat": 4,
 "nbformat_minor": 5
}
